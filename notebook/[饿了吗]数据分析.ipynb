{
 "cells": [
  {
   "cell_type": "code",
   "execution_count": 1,
   "metadata": {
    "collapsed": true
   },
   "outputs": [],
   "source": [
    "# -*- coding: utf-8 -*-\n",
    "\n",
    "import pandas as pd\n",
    "import geohash\n",
    "import sqlite3 as sql\n",
    "import datetime\n",
    "import sys\n",
    "import sqlalchemy\n",
    "import numpy as np\n",
    "import matplotlib as mpl\n",
    "import matplotlib.pyplot as plt\n",
    "from itertools import *\n",
    "from pandas import ExcelWriter\n",
    "\n",
    "# Use chinese for MPL\n",
    "mpl.rcParams['font.family'] = 'Hiragino Sans GB'\n",
    "mpl.rcParams['font.sans-serif'] = 'Hiragino Sans GB'\n",
    "mpl.rcParams['text.latex.unicode']=True"
   ]
  },
  {
   "cell_type": "code",
   "execution_count": 2,
   "metadata": {
    "collapsed": true
   },
   "outputs": [],
   "source": [
    "database_path = 'sqlite3/'\n",
    "databases = {'2015-08-18':'2015-08-18-data.db',\n",
    "             '2015-08-29':'2015-08-29-data.db',\n",
    "             '2015-09-29':'2015-09-29-data.db',\n",
    "             '2015-10-02':'2015-10-02-data.db',\n",
    "             '2015-10-30':'2015-10-30-data.db',\n",
    "             '2016-01-08':'2016-01-08-data.db',\n",
    "             '2016-02-01':'2016-02-01-data.db'}\n",
    "\n",
    "DISK_CATEGORY_KEYWORDS = {\n",
    "    'staple': ['面', '饭', '粥', '馒头', '花卷', '馄饨', '饺', '包', '粉', '饼'],\n",
    "    'drinking': ['酒,''咖啡', '雪碧', '可乐', '茶', '拿铁'],\n",
    "    'dessert': ['布丁', '蛋糕', '饼干', '曲奇']\n",
    "}\n",
    "\n",
    "MINOR_CATEGORY_TEXT = {\n",
    "    208: '品牌快餐',\n",
    "    209: '盖浇饭',\n",
    "    210: '中式炒菜',\n",
    "    211: '披萨意面',\n",
    "    212: '汉堡',\n",
    "    213: '米粉面馆',\n",
    "    214: '麻辣烫',\n",
    "    215: '包子粥店',\n",
    "    216: '生煎锅贴',\n",
    "    217: '饺子馄饨',\n",
    "    218: '烧烤',\n",
    "    219: '香锅',\n",
    "    221: '川湘菜',\n",
    "    222: '粤菜',\n",
    "    223: '东北菜',\n",
    "    224: '云南菜',\n",
    "    225: '江浙菜',\n",
    "    226: '西北菜',\n",
    "    227: '鲁菜',\n",
    "    228: '清真',\n",
    "    229: '日韩料理',\n",
    "    230: '西餐',\n",
    "    231: '火锅',\n",
    "    232: '海鲜',\n",
    "    234: '炸鸡炸串',\n",
    "    235: '鸭脖卤味',\n",
    "    236: '小龙虾',\n",
    "    237: '地方小吃',\n",
    "    238: '零食',\n",
    "    240: '饮品',\n",
    "    241: '甜品',\n",
    "    242: '咖啡',\n",
    "    243: '点心',\n",
    "    249: '蛋糕',\n",
    "    250: '面包'\n",
    "}\n",
    "\n",
    "\n",
    "def determine_dish_type(name):\n",
    "    for type, keywords in DISK_CATEGORY_KEYWORDS.items():\n",
    "        for keyword in keywords:\n",
    "            if keyword in name:\n",
    "                return type\n",
    "    return 'vegetable'\n",
    "\n",
    "def load_database(db_name):\n",
    "    print('Loading database:', db_name, '...')\n",
    "    engine = sqlalchemy.create_engine('sqlite:///' + database_path + db_name)\n",
    "#     print('加载表: restaurants')\n",
    "    restaurants_db = pd.read_sql_table('restaurants', engine)\n",
    "#     print('加载表: menus')\n",
    "    menus_db = pd.read_sql_table('menus', engine)\n",
    "    \n",
    "    category_db = pd.read_sql_table('category', engine)\n",
    "    restaurant_categories_db = pd.read_sql_table('restaurant_categories', engine)\n",
    "    \n",
    "#     print('计算营业额...')\n",
    "    menus_db['revenue'] = menus_db['price'] * menus_db['month_sales']\n",
    "    \n",
    "#     print('合并营业额...')\n",
    "    revenue_db = menus_db.loc[:, ['restaurant_id', 'revenue']].groupby(\n",
    "                'restaurant_id').sum().reset_index(drop=False)\n",
    "    restaurants_db = pd.merge(restaurants_db, revenue_db, left_on='id', right_on='restaurant_id',\n",
    "                                       how='left')\n",
    "    \n",
    "#     print('计算菜单平均价...')\n",
    "    mean_db = menus_db.loc[:, ['restaurant_id', 'price']].groupby('restaurant_id').mean().reset_index(\n",
    "            drop=False).rename(columns={'price': 'mean_price'})\n",
    "    restaurants_db = pd.merge(restaurants_db, mean_db, on='restaurant_id')\n",
    "    \n",
    "#     print('计算平均价格...')\n",
    "    restaurants_db['average_price'] = restaurants_db['revenue'] / restaurants_db['month_sales']\n",
    "\n",
    "    restaurants_db['revenue'] = restaurants_db['revenue'].fillna(0)\n",
    "    del restaurants_db['restaurant_id']\n",
    "\n",
    "#     print('合并商家类型...')\n",
    "    restaurants_db = pd.merge(restaurants_db, restaurant_categories_db, left_on='id',\n",
    "                                   right_on='restaurant_id', how='right')\n",
    "    del restaurants_db['restaurant_id']\n",
    "\n",
    "#     print('合并类型详细信息...')\n",
    "    category_db = category_db.rename(columns={'id': 'cat_id', 'name': 'cat_name'})\n",
    "    restaurants_db = pd.merge(restaurants_db, category_db, left_on='category_id', right_on='cat_id',\n",
    "                                   how='left')\n",
    "    del restaurants_db['category_id']\n",
    "    \n",
    "    \n",
    "#     print('为菜单生成种类分类信息...')\n",
    "    menus_db['type'] = [determine_dish_type(n) for n in menus_db['name']]\n",
    "\n",
    "#     print('为菜单生成商铺分类信息...')\n",
    "    category_db = restaurants_db.loc[:, ['id', 'cat_name']].rename(columns={'id': 'restaurant_id'})\n",
    "    menus_db = pd.merge(menus_db, category_db, on='restaurant_id')    \n",
    "\n",
    "    print('database:',db_name,'loaded!')\n",
    "    return restaurants_db,menus_db"
   ]
  },
  {
   "cell_type": "code",
   "execution_count": 3,
   "metadata": {
    "collapsed": false
   },
   "outputs": [
    {
     "name": "stdout",
     "output_type": "stream",
     "text": [
      "Loading database: 2016-02-01-data.db ...\n",
      "database: 2016-02-01-data.db loaded!\n"
     ]
    }
   ],
   "source": [
    "dft = load_database('2016-02-01-data.db')"
   ]
  },
  {
   "cell_type": "markdown",
   "metadata": {},
   "source": [
    "# Summary"
   ]
  },
  {
   "cell_type": "code",
   "execution_count": 40,
   "metadata": {
    "collapsed": false
   },
   "outputs": [
    {
     "name": "stdout",
     "output_type": "stream",
     "text": [
      "采样商家数量: 11,856 户\n",
      "总营业额: 415,170,486.87 元\n",
      "总销量: 28,525,839.0 份\n",
      "平均每单营业额: 14.55 元\n",
      "单月最高营业额: 1,372,474.20\n"
     ]
    }
   ],
   "source": [
    "rest_db = dft[0]\n",
    "\n",
    "union_db = rest_db.drop_duplicates('id')\n",
    "\n",
    "\n",
    "\n",
    "count_of_restaurants = union_db.shape[0]\n",
    "print('采样商家数量: {:,} 户'.format(count_of_restaurants))\n",
    "\n",
    "total_revenue = union_db['revenue'].sum()\n",
    "print('总营业额: {:,.2f} 元'.format(total_revenue))\n",
    "\n",
    "total_sales = union_db['month_sales'].sum()\n",
    "print('总销量: {:,} 份'.format(total_sales))\n",
    "\n",
    "average_revenue = total_revenue / total_sales\n",
    "print('平均每单营业额: {:,.2f} 元'.format(average_revenue))\n",
    "\n",
    "highest_revenue = union_db.sort_values(by='revenue', ascending=False).iloc[0]['revenue']\n",
    "print('单月最高营业额: {:,.2f}'.format(highest_revenue))"
   ]
  },
  {
   "cell_type": "code",
   "execution_count": 79,
   "metadata": {
    "collapsed": false
   },
   "outputs": [
    {
     "name": "stdout",
     "output_type": "stream",
     "text": [
      "营收额前10类\n",
      "平均每单价格最高10类\n",
      "平均每商家营业额最高10类\n"
     ]
    }
   ],
   "source": [
    "# 计算营收排行前10名\n",
    "revenues = {}\n",
    "revenues['category'] = []\n",
    "revenues['revenue'] = []\n",
    "revenues['sales'] = []\n",
    "revenues['num_restaurants'] = []\n",
    "\n",
    "\n",
    "\n",
    "for category in MINOR_CATEGORY_TEXT.values():\n",
    "    df = rest_db[rest_db.cat_name == category]\n",
    "    total_revenue = df['revenue'].sum()\n",
    "    total_sales = df['month_sales'].sum()\n",
    "    revenues['category'].append(category)\n",
    "    revenues['revenue'].append(total_revenue)\n",
    "    revenues['sales'].append(total_sales)\n",
    "    revenues['num_restaurants'].append(df.shape[0])\n",
    "    \n",
    "df_ranking = pd.DataFrame(revenues)\n",
    "df_ranking['average_per_sale'] = df_ranking['revenue'] / df_ranking['sales']\n",
    "df_ranking['average_per_restaurant'] = df_ranking['revenue'] / df_ranking['num_restaurants']\n",
    "\n",
    "\n",
    "with ExcelWriter('numbers_material.xlsx') as writer:\n",
    "    print('营收额前10类')\n",
    "\n",
    "    sorted_df = df_ranking.sort_values(by='revenue', ascending=False).reset_index(drop=True).iloc[0:10]\n",
    "    ax = sorted_df.plot(kind='bar',x='category',y = 'revenue')\n",
    "    ax.set_xlabel('分类')\n",
    "    ax.set_ylabel('营业额')\n",
    "    plt.show()\n",
    "    \n",
    "    sorted_df.to_excel(writer,'revenue_ranking')\n",
    "\n",
    "    print('平均每单价格最高10类')\n",
    "\n",
    "    sorted_df = df_ranking.sort_values(by='average_per_sale', ascending=False).reset_index(drop=True).iloc[0:10]\n",
    "    ax = sorted_df.plot(kind='bar',x='category',y = 'average_per_sale')\n",
    "    ax.set_xlabel('分类')\n",
    "    ax.set_ylabel('平均每单价格')\n",
    "    plt.show()\n",
    "\n",
    "    sorted_df.to_excel(writer,'average_per_sale')\n",
    "\n",
    "    print('平均每商家营业额最高10类')\n",
    "\n",
    "    sorted_df = df_ranking.sort_values(by='average_per_restaurant', ascending=False).reset_index(drop=True).iloc[0:10]\n",
    "    ax = sorted_df.plot(kind='bar',x='category',y = 'average_per_restaurant')\n",
    "    ax.set_xlabel('分类')\n",
    "    ax.set_ylabel('平均每商家营业额')\n",
    "    plt.show()\n",
    "    \n",
    "    sorted_df.to_excel(writer,'average_per_restaurant')\n",
    "\n"
   ]
  }
 ],
 "metadata": {
  "kernelspec": {
   "display_name": "Python [Root]",
   "language": "python",
   "name": "Python [Root]"
  },
  "language_info": {
   "codemirror_mode": {
    "name": "ipython",
    "version": 3
   },
   "file_extension": ".py",
   "mimetype": "text/x-python",
   "name": "python",
   "nbconvert_exporter": "python",
   "pygments_lexer": "ipython3",
   "version": "3.5.2"
  }
 },
 "nbformat": 4,
 "nbformat_minor": 0
}
